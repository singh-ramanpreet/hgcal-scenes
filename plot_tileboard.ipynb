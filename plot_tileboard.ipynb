{
 "cells": [
  {
   "cell_type": "code",
   "execution_count": null,
   "metadata": {},
   "outputs": [],
   "source": [
    "import ROOT\n",
    "import numpy as np\n",
    "import pandas as pd\n",
    "import copy\n",
    "from pyroot_cms_scripts import CMS_style"
   ]
  },
  {
   "cell_type": "code",
   "execution_count": null,
   "metadata": {},
   "outputs": [],
   "source": [
    "t_layout = pd.read_csv(\"tileboards_layout_v10.csv\")"
   ]
  },
  {
   "cell_type": "code",
   "execution_count": null,
   "metadata": {},
   "outputs": [],
   "source": [
    "CMS_style.SetLabelSize(0.035, \"XZY\")\n",
    "CMS_style.cd()\n",
    "ROOT.gROOT.ForceStyle()\n",
    "canvas = ROOT.TCanvas()\n",
    "detector_frame = canvas.DrawFrame(8, 850, 23, 2720,  \"; CEH - Layer; R (mm)\")\n",
    "detector_frame.Draw()\n",
    "\n",
    "tboxes = []\n",
    "\n",
    "for i in range(9,23):\n",
    "    bounds = np.array(t_layout[\"boundaries\"].values[i - 9].split(\",\"), dtype=np.float32)\n",
    "    for r in range(len(bounds) - 1):\n",
    "        tboxes.append(ROOT.TBox(i - 0.5, bounds[r], i + 0.5, bounds[r + 1]))\n",
    "        \n",
    "for tbox in tboxes:\n",
    "    tbox.SetFillColor(0)\n",
    "    tbox.Draw(\"l\")\n",
    "\n",
    "canvas.Draw()\n",
    "#canvas.Print(\"plots/tileboard_layout.pdf\")"
   ]
  }
 ],
 "metadata": {
  "kernelspec": {
   "display_name": "Python 3 LCG_96_CENTOS7_GCC8",
   "language": "python",
   "name": "python3_lcg_96_centos7_gcc8"
  },
  "language_info": {
   "codemirror_mode": {
    "name": "ipython",
    "version": 3
   },
   "file_extension": ".py",
   "mimetype": "text/x-python",
   "name": "python",
   "nbconvert_exporter": "python",
   "pygments_lexer": "ipython3",
   "version": "3.6.5"
  }
 },
 "nbformat": 4,
 "nbformat_minor": 4
}
